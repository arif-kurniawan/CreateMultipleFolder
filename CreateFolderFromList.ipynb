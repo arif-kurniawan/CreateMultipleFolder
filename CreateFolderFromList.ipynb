{
 "cells": [
  {
   "cell_type": "code",
   "execution_count": 4,
   "id": "51f93f9c",
   "metadata": {},
   "outputs": [],
   "source": [
    "nama = [\"AHMAT SAMSUL MAARIF\",\"ANDRIAN DANI IRAWAN\",\"ANDRIAN SUHARDI\",\"ARGA DAHANA\",\"ARIF KURNIAWAN\",\"ATHOILLAH\",\"BAGYO SUPRAPTO\",\"BASKORO SINGGIH ANINDITO\",\"BAWON ROHMAWATI\",\"BENING ZULAIKHA NURAINI\",\"DANNY ARGA ARDANIS\",\"DEVAGA BETAYOKA\",\"DIDIK HARIYANTO\",\"DINI AYU WIRANTI\",\"DODY PURNAMA PUTRA\",\"DYAH RATNASARI\",\"E.S. ENDAH WAHYUNING DYAH\",\"EDNA AYU INDRIYANI\",\"ERINTA KUSUMANINGTYAS\",\"FEBRI IRAWAN\",\"FITRIANOZA\",\"GIGIH PERKASA\",\"HABSARI RAHAYU FAKHRUNNIA\",\"IKA BUDI YULIASTINI\",\"IWAN ADI CAHYONO\",\"IWAN BUDI SUSANTO\",\"KURNIA DJUNIARTI\",\"MAYANG PUSPITARINI\",\"MOH ARFAN AFANDI\",\"MUFIDA ROYANTI\",\"MUHAMMAD AZHAR SYAIFUDIN\",\"MUSA ABADI\",\"NADZIF ULFIAH\",\"NUR LAILA DWI FITRIYAH\",\"RETNO PURWANTI\",\"RIA AFIANTI\",\"RINA NOVIYANTI\",\"RISZKA INDARWATI\",\"SETYO BAGUS FRISTANTO\",\"SITI JULAIKAH\",\"SONY SAIFULLAH PURWANTO\",\"SOVIA YULI ASTUTI\",\"SUKIRMAN\",\"SUSIYANTI\",\"SUTIKNO\",\"TATOK DWI HERTANTO\",\"TRI YUANA PUSPITASARI\",\"WINDA SULISTYANA\",\"WIWIT RIYANTI\",\"YULIYATI\",\"YUNICO RUSWILDAWANTO\",\"ZOHAN FACHRULLWAHAB\"]"
   ]
  },
  {
   "cell_type": "code",
   "execution_count": 7,
   "id": "73bfdcfb",
   "metadata": {},
   "outputs": [],
   "source": [
    "import os\n",
    "for items in nama:\n",
    "    os.mkdir(items)"
   ]
  }
 ],
 "metadata": {
  "kernelspec": {
   "display_name": "Python 3",
   "language": "python",
   "name": "python3"
  },
  "language_info": {
   "codemirror_mode": {
    "name": "ipython",
    "version": 3
   },
   "file_extension": ".py",
   "mimetype": "text/x-python",
   "name": "python",
   "nbconvert_exporter": "python",
   "pygments_lexer": "ipython3",
   "version": "3.6.13"
  }
 },
 "nbformat": 4,
 "nbformat_minor": 5
}
